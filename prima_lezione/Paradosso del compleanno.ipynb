{
 "cells": [
  {
   "cell_type": "code",
   "execution_count": 1,
   "metadata": {
    "collapsed": false
   },
   "outputs": [
    {
     "data": {
      "text/plain": [
       "1"
      ]
     },
     "execution_count": 1,
     "metadata": {},
     "output_type": "execute_result"
    }
   ],
   "source": [
    "1"
   ]
  },
  {
   "cell_type": "code",
   "execution_count": 2,
   "metadata": {
    "collapsed": false
   },
   "outputs": [
    {
     "data": {
      "text/plain": [
       "2"
      ]
     },
     "execution_count": 2,
     "metadata": {},
     "output_type": "execute_result"
    }
   ],
   "source": [
    "2"
   ]
  },
  {
   "cell_type": "code",
   "execution_count": 3,
   "metadata": {
    "collapsed": false
   },
   "outputs": [
    {
     "data": {
      "text/plain": [
       "2"
      ]
     },
     "execution_count": 3,
     "metadata": {},
     "output_type": "execute_result"
    }
   ],
   "source": [
    "1+1"
   ]
  },
  {
   "cell_type": "code",
   "execution_count": 4,
   "metadata": {
    "collapsed": false
   },
   "outputs": [
    {
     "data": {
      "text/plain": [
       "30"
      ]
     },
     "execution_count": 4,
     "metadata": {},
     "output_type": "execute_result"
    }
   ],
   "source": [
    "3*10"
   ]
  },
  {
   "cell_type": "code",
   "execution_count": 5,
   "metadata": {
    "collapsed": false
   },
   "outputs": [
    {
     "data": {
      "text/plain": [
       "8"
      ]
     },
     "execution_count": 5,
     "metadata": {},
     "output_type": "execute_result"
    }
   ],
   "source": [
    "2**3"
   ]
  },
  {
   "cell_type": "code",
   "execution_count": 6,
   "metadata": {
    "collapsed": false
   },
   "outputs": [
    {
     "data": {
      "text/plain": [
       "209099650969996345934179908364720866102545625184014096108928877181800078907865586499809380051140359963923164234635963088507242269471781455597448603168237624057835484011560014673411020606263547819716038166830079547154596270233864067861275790065621889373861766148999141220709975674788970686931194291186904782206458334400197577537084538868914837640493499495201017404413752401443317941290630564173666493135770662672482468257211226236708558142768586361231535623482243969280452249224405533480054449283567206564516784026433523393219916789946293866046566863477391055388427280957794797904558319239834437393812388410252994363676468867079803487433626412552678328107665621047925678194645919912005410198385134523412334581195893900491510628112540307081927329220947526225583909983048213211168396761658756683976044303121840957733163241375848175919783258641108495431093166908286039539939964869984866700350972802176423263375461516498371437801846511121518901124861840434772439324608105625863840001204717302631484109956525536726922580124957904503458602410507892090727005776978041334165696771606102825738287727766714471808909942437186216639371320507208496601250589213939793586957830896614180154856559778633799034908611660213391104187983355533536668994599903737211437253672275381096528302689845956722271715906558693337143557404283635122393273033489308672808842827253545562384169222746837840837052727296"
      ]
     },
     "execution_count": 6,
     "metadata": {},
     "output_type": "execute_result"
    }
   ],
   "source": [
    "56**789"
   ]
  },
  {
   "cell_type": "code",
   "execution_count": 8,
   "metadata": {
    "collapsed": false
   },
   "outputs": [
    {
     "data": {
      "text/plain": [
       "1000"
      ]
     },
     "execution_count": 8,
     "metadata": {},
     "output_type": "execute_result"
    }
   ],
   "source": [
    "max(1,2,100,1000)"
   ]
  },
  {
   "cell_type": "code",
   "execution_count": 9,
   "metadata": {
    "collapsed": false
   },
   "outputs": [
    {
     "data": {
      "text/plain": [
       "1"
      ]
     },
     "execution_count": 9,
     "metadata": {},
     "output_type": "execute_result"
    }
   ],
   "source": [
    "min(1,2,100,1000)"
   ]
  },
  {
   "cell_type": "code",
   "execution_count": 10,
   "metadata": {
    "collapsed": false
   },
   "outputs": [
    {
     "data": {
      "text/plain": [
       "209099650969996345934179908364720866102545625184014096108928877181800078907865586499809380051140359963923164234635963088507242269471781455597448603168237624057835484011560014673411020606263547819716038166830079547154596270233864067861275790065621889373861766148999141220709975674788970686931194291186904782206458334400197577537084538868914837640493499495201017404413752401443317941290630564173666493135770662672482468257211226236708558142768586361231535623482243969280452249224405533480054449283567206564516784026433523393219916789946293866046566863477391055388427280957794797904558319239834437393812388410252994363676468867079803487433626412552678328107665621047925678194645919912005410198385134523412334581195893900491510628112540307081927329220947526225583909983048213211168396761658756683976044303121840957733163241375848175919783258641108495431093166908286039539939964869984866700350972802176423263375461516498371437801846511121518901124861840434772439324608105625863840001204717302631484109956525536726922580124957904503458602410507892090727005776978041334165696771606102825738287727766714471808909942437186216639371320507208496601250589213939793586957830896614180154856559778633799034908611660213391104187983355533536668994599903737211437253672275381096528302689845956722271715906558693337143557404283635122393273033489308672808842827253545562384169222746837840837052727297"
      ]
     },
     "execution_count": 10,
     "metadata": {},
     "output_type": "execute_result"
    }
   ],
   "source": [
    "_6+1"
   ]
  },
  {
   "cell_type": "code",
   "execution_count": 11,
   "metadata": {
    "collapsed": false
   },
   "outputs": [
    {
     "ename": "NameError",
     "evalue": "name 'cos' is not defined",
     "output_type": "error",
     "traceback": [
      "\u001b[0;31m---------------------------------------------------------------------------\u001b[0m",
      "\u001b[0;31mNameError\u001b[0m                                 Traceback (most recent call last)",
      "\u001b[0;32m<ipython-input-11-0652c5d38c17>\u001b[0m in \u001b[0;36m<module>\u001b[0;34m()\u001b[0m\n\u001b[0;32m----> 1\u001b[0;31m \u001b[0mcos\u001b[0m\u001b[0;34m(\u001b[0m\u001b[0;36m123\u001b[0m\u001b[0;34m)\u001b[0m\u001b[0;34m\u001b[0m\u001b[0m\n\u001b[0m",
      "\u001b[0;31mNameError\u001b[0m: name 'cos' is not defined"
     ]
    }
   ],
   "source": [
    "cos(123)"
   ]
  },
  {
   "cell_type": "raw",
   "metadata": {},
   "source": [
    "L'errore è perché cos non è una funzione \"built-in\": importiamola!"
   ]
  },
  {
   "cell_type": "code",
   "execution_count": 12,
   "metadata": {
    "collapsed": true
   },
   "outputs": [],
   "source": [
    "from math import cos"
   ]
  },
  {
   "cell_type": "code",
   "execution_count": 13,
   "metadata": {
    "collapsed": false
   },
   "outputs": [
    {
     "data": {
      "text/plain": [
       "-0.8879689066918555"
      ]
     },
     "execution_count": 13,
     "metadata": {},
     "output_type": "execute_result"
    }
   ],
   "source": [
    "cos(123)"
   ]
  },
  {
   "cell_type": "raw",
   "metadata": {},
   "source": [
    "Chiediamoci: cos considera l'argomento come passato in gradi o in radianti? Se fosse in gradi, per 90 ci aspetteremmo 0!"
   ]
  },
  {
   "cell_type": "code",
   "execution_count": 14,
   "metadata": {
    "collapsed": false
   },
   "outputs": [
    {
     "data": {
      "text/plain": [
       "-0.4480736161291701"
      ]
     },
     "execution_count": 14,
     "metadata": {},
     "output_type": "execute_result"
    }
   ],
   "source": [
    "cos(90)"
   ]
  },
  {
   "cell_type": "raw",
   "metadata": {},
   "source": [
    "Proviamo con i radianti... prima però ci serve avere pigreco a disposizione..."
   ]
  },
  {
   "cell_type": "code",
   "execution_count": 15,
   "metadata": {
    "collapsed": true
   },
   "outputs": [],
   "source": [
    "from math import pi"
   ]
  },
  {
   "cell_type": "code",
   "execution_count": 16,
   "metadata": {
    "collapsed": false
   },
   "outputs": [
    {
     "data": {
      "text/plain": [
       "3.141592653589793"
      ]
     },
     "execution_count": 16,
     "metadata": {},
     "output_type": "execute_result"
    }
   ],
   "source": [
    "pi"
   ]
  },
  {
   "cell_type": "code",
   "execution_count": 17,
   "metadata": {
    "collapsed": false
   },
   "outputs": [
    {
     "data": {
      "text/plain": [
       "6.123233995736766e-17"
      ]
     },
     "execution_count": 17,
     "metadata": {},
     "output_type": "execute_result"
    }
   ],
   "source": [
    "cos(pi/2)"
   ]
  },
  {
   "cell_type": "code",
   "execution_count": 18,
   "metadata": {
    "collapsed": false
   },
   "outputs": [
    {
     "data": {
      "text/plain": [
       "-1.0"
      ]
     },
     "execution_count": 18,
     "metadata": {},
     "output_type": "execute_result"
    }
   ],
   "source": [
    "cos(pi)"
   ]
  },
  {
   "cell_type": "raw",
   "metadata": {},
   "source": [
    "Ok, giochiamo un po' con il caso, ora..."
   ]
  },
  {
   "cell_type": "code",
   "execution_count": 19,
   "metadata": {
    "collapsed": true
   },
   "outputs": [],
   "source": [
    "from random import randint"
   ]
  },
  {
   "cell_type": "code",
   "execution_count": 21,
   "metadata": {
    "collapsed": false
   },
   "outputs": [
    {
     "data": {
      "text/plain": [
       "1"
      ]
     },
     "execution_count": 21,
     "metadata": {},
     "output_type": "execute_result"
    }
   ],
   "source": [
    "randint(1, 10)"
   ]
  },
  {
   "cell_type": "code",
   "execution_count": 24,
   "metadata": {
    "collapsed": false
   },
   "outputs": [
    {
     "data": {
      "text/plain": [
       "299"
      ]
     },
     "execution_count": 24,
     "metadata": {},
     "output_type": "execute_result"
    }
   ],
   "source": [
    "randint(1, 365)"
   ]
  },
  {
   "cell_type": "raw",
   "metadata": {},
   "source": [
    "Introduciamo le liste..."
   ]
  },
  {
   "cell_type": "code",
   "execution_count": 26,
   "metadata": {
    "collapsed": false
   },
   "outputs": [
    {
     "data": {
      "text/plain": [
       "[1, 2, 3, 4]"
      ]
     },
     "execution_count": 26,
     "metadata": {},
     "output_type": "execute_result"
    }
   ],
   "source": [
    "[1, 2, 3, 4]"
   ]
  },
  {
   "cell_type": "code",
   "execution_count": 27,
   "metadata": {
    "collapsed": false
   },
   "outputs": [
    {
     "data": {
      "text/plain": [
       "[1, 4, 8, 1]"
      ]
     },
     "execution_count": 27,
     "metadata": {},
     "output_type": "execute_result"
    }
   ],
   "source": [
    "[1, 2+2, 3+5, 1]"
   ]
  },
  {
   "cell_type": "code",
   "execution_count": 28,
   "metadata": {
    "collapsed": false
   },
   "outputs": [
    {
     "data": {
      "text/plain": [
       "15"
      ]
     },
     "execution_count": 28,
     "metadata": {},
     "output_type": "execute_result"
    }
   ],
   "source": [
    "sum([1,2,3,4,5])"
   ]
  },
  {
   "cell_type": "code",
   "execution_count": 29,
   "metadata": {
    "collapsed": false
   },
   "outputs": [
    {
     "data": {
      "text/plain": [
       "14"
      ]
     },
     "execution_count": 29,
     "metadata": {},
     "output_type": "execute_result"
    }
   ],
   "source": [
    "sum(_27)"
   ]
  },
  {
   "cell_type": "raw",
   "metadata": {},
   "source": [
    "Diamo un nome alle cose..."
   ]
  },
  {
   "cell_type": "code",
   "execution_count": 30,
   "metadata": {
    "collapsed": true
   },
   "outputs": [],
   "source": [
    "a = 123"
   ]
  },
  {
   "cell_type": "code",
   "execution_count": 31,
   "metadata": {
    "collapsed": false
   },
   "outputs": [
    {
     "data": {
      "text/plain": [
       "246"
      ]
     },
     "execution_count": 31,
     "metadata": {},
     "output_type": "execute_result"
    }
   ],
   "source": [
    "123+a"
   ]
  },
  {
   "cell_type": "code",
   "execution_count": 32,
   "metadata": {
    "collapsed": false
   },
   "outputs": [
    {
     "data": {
      "text/plain": [
       "[123, 246, 369]"
      ]
     },
     "execution_count": 32,
     "metadata": {},
     "output_type": "execute_result"
    }
   ],
   "source": [
    "[a, 2*a, 3*a]"
   ]
  },
  {
   "cell_type": "code",
   "execution_count": 33,
   "metadata": {
    "collapsed": true
   },
   "outputs": [],
   "source": [
    "b = [1,10,100,1000]"
   ]
  },
  {
   "cell_type": "code",
   "execution_count": 34,
   "metadata": {
    "collapsed": false
   },
   "outputs": [
    {
     "data": {
      "text/plain": [
       "[1, 10, 100, 1000]"
      ]
     },
     "execution_count": 34,
     "metadata": {},
     "output_type": "execute_result"
    }
   ],
   "source": [
    "b"
   ]
  },
  {
   "cell_type": "code",
   "execution_count": 35,
   "metadata": {
    "collapsed": false
   },
   "outputs": [
    {
     "data": {
      "text/plain": [
       "1111"
      ]
     },
     "execution_count": 35,
     "metadata": {},
     "output_type": "execute_result"
    }
   ],
   "source": [
    "sum(b)"
   ]
  },
  {
   "cell_type": "raw",
   "metadata": {},
   "source": [
    "Lanciamo due dadi, vediamo se viene snake-eyes!"
   ]
  },
  {
   "cell_type": "code",
   "execution_count": 36,
   "metadata": {
    "collapsed": false
   },
   "outputs": [
    {
     "data": {
      "text/plain": [
       "[2, 6]"
      ]
     },
     "execution_count": 36,
     "metadata": {},
     "output_type": "execute_result"
    }
   ],
   "source": [
    "[randint(1,10), randint(1,10)]"
   ]
  },
  {
   "cell_type": "raw",
   "metadata": {},
   "source": [
    "Con range possiamo generare liste automaticamente..."
   ]
  },
  {
   "cell_type": "code",
   "execution_count": 40,
   "metadata": {
    "collapsed": false
   },
   "outputs": [
    {
     "data": {
      "text/plain": [
       "[0, 1, 2, 3, 4, 5, 6, 7, 8, 9]"
      ]
     },
     "execution_count": 40,
     "metadata": {},
     "output_type": "execute_result"
    }
   ],
   "source": [
    "list(range(10))"
   ]
  },
  {
   "cell_type": "code",
   "execution_count": 41,
   "metadata": {
    "collapsed": true
   },
   "outputs": [],
   "source": [
    "A = [1,2,3]"
   ]
  },
  {
   "cell_type": "raw",
   "metadata": {},
   "source": [
    "Ecco le list comprehension"
   ]
  },
  {
   "cell_type": "code",
   "execution_count": 42,
   "metadata": {
    "collapsed": false
   },
   "outputs": [
    {
     "data": {
      "text/plain": [
       "[1, 4, 9]"
      ]
     },
     "execution_count": 42,
     "metadata": {},
     "output_type": "execute_result"
    }
   ],
   "source": [
    "[x**2 for x in A]"
   ]
  },
  {
   "cell_type": "code",
   "execution_count": 44,
   "metadata": {
    "collapsed": false
   },
   "outputs": [
    {
     "data": {
      "text/plain": [
       "338350"
      ]
     },
     "execution_count": 44,
     "metadata": {},
     "output_type": "execute_result"
    }
   ],
   "source": [
    "sum([x**2 for x in range(101)])"
   ]
  },
  {
   "cell_type": "raw",
   "metadata": {},
   "source": [
    "Gli insiemi"
   ]
  },
  {
   "cell_type": "code",
   "execution_count": 47,
   "metadata": {
    "collapsed": false
   },
   "outputs": [],
   "source": [
    "i = {1,2,2,2,2,2,2}"
   ]
  },
  {
   "cell_type": "code",
   "execution_count": 132,
   "metadata": {
    "collapsed": false
   },
   "outputs": [
    {
     "data": {
      "text/plain": [
       "{1, 2}"
      ]
     },
     "execution_count": 132,
     "metadata": {},
     "output_type": "execute_result"
    }
   ],
   "source": [
    "i"
   ]
  },
  {
   "cell_type": "code",
   "execution_count": 49,
   "metadata": {
    "collapsed": false
   },
   "outputs": [
    {
     "data": {
      "text/plain": [
       "3"
      ]
     },
     "execution_count": 49,
     "metadata": {},
     "output_type": "execute_result"
    }
   ],
   "source": [
    "len([1,2,3])"
   ]
  },
  {
   "cell_type": "code",
   "execution_count": 50,
   "metadata": {
    "collapsed": false
   },
   "outputs": [
    {
     "data": {
      "text/plain": [
       "2"
      ]
     },
     "execution_count": 50,
     "metadata": {},
     "output_type": "execute_result"
    }
   ],
   "source": [
    "len(i)"
   ]
  },
  {
   "cell_type": "code",
   "execution_count": 52,
   "metadata": {
    "collapsed": true
   },
   "outputs": [],
   "source": [
    "l = [1,2,3,2,2,10]"
   ]
  },
  {
   "cell_type": "raw",
   "metadata": {},
   "source": [
    "Possiamo trasformare una lista in un insieme..."
   ]
  },
  {
   "cell_type": "code",
   "execution_count": 53,
   "metadata": {
    "collapsed": false
   },
   "outputs": [
    {
     "data": {
      "text/plain": [
       "{1, 2, 3, 10}"
      ]
     },
     "execution_count": 53,
     "metadata": {},
     "output_type": "execute_result"
    }
   ],
   "source": [
    "set(l)"
   ]
  },
  {
   "cell_type": "code",
   "execution_count": 54,
   "metadata": {
    "collapsed": true
   },
   "outputs": [],
   "source": [
    "classe = [randint(1,365), randint(1,365)]"
   ]
  },
  {
   "cell_type": "code",
   "execution_count": 55,
   "metadata": {
    "collapsed": false
   },
   "outputs": [
    {
     "data": {
      "text/plain": [
       "[32, 130]"
      ]
     },
     "execution_count": 55,
     "metadata": {},
     "output_type": "execute_result"
    }
   ],
   "source": [
    "classe"
   ]
  },
  {
   "cell_type": "code",
   "execution_count": 66,
   "metadata": {
    "collapsed": false
   },
   "outputs": [
    {
     "data": {
      "text/plain": [
       "[197,\n",
       " 335,\n",
       " 171,\n",
       " 287,\n",
       " 46,\n",
       " 77,\n",
       " 23,\n",
       " 361,\n",
       " 89,\n",
       " 166,\n",
       " 316,\n",
       " 137,\n",
       " 55,\n",
       " 191,\n",
       " 265,\n",
       " 297,\n",
       " 231,\n",
       " 152,\n",
       " 122,\n",
       " 120,\n",
       " 294,\n",
       " 14,\n",
       " 99,\n",
       " 161,\n",
       " 244]"
      ]
     },
     "execution_count": 66,
     "metadata": {},
     "output_type": "execute_result"
    }
   ],
   "source": [
    "[randint(1,365) for x in range(25)]"
   ]
  },
  {
   "cell_type": "code",
   "execution_count": 67,
   "metadata": {
    "collapsed": false
   },
   "outputs": [
    {
     "data": {
      "text/plain": [
       "{14,\n",
       " 23,\n",
       " 46,\n",
       " 55,\n",
       " 77,\n",
       " 89,\n",
       " 99,\n",
       " 120,\n",
       " 122,\n",
       " 137,\n",
       " 152,\n",
       " 161,\n",
       " 166,\n",
       " 171,\n",
       " 191,\n",
       " 197,\n",
       " 231,\n",
       " 244,\n",
       " 265,\n",
       " 287,\n",
       " 294,\n",
       " 297,\n",
       " 316,\n",
       " 335,\n",
       " 361}"
      ]
     },
     "execution_count": 67,
     "metadata": {},
     "output_type": "execute_result"
    }
   ],
   "source": [
    "set(_66)"
   ]
  },
  {
   "cell_type": "code",
   "execution_count": 68,
   "metadata": {
    "collapsed": false
   },
   "outputs": [
    {
     "data": {
      "text/plain": [
       "25"
      ]
     },
     "execution_count": 68,
     "metadata": {},
     "output_type": "execute_result"
    }
   ],
   "source": [
    "len(_62)"
   ]
  },
  {
   "cell_type": "code",
   "execution_count": 78,
   "metadata": {
    "collapsed": false
   },
   "outputs": [
    {
     "data": {
      "text/plain": [
       "24"
      ]
     },
     "execution_count": 78,
     "metadata": {},
     "output_type": "execute_result"
    }
   ],
   "source": [
    "len(set([randint(1,365) for x in range(25)]))"
   ]
  },
  {
   "cell_type": "code",
   "execution_count": 96,
   "metadata": {
    "collapsed": false
   },
   "outputs": [
    {
     "data": {
      "text/plain": [
       "[25,\n",
       " 24,\n",
       " 23,\n",
       " 25,\n",
       " 25,\n",
       " 25,\n",
       " 25,\n",
       " 24,\n",
       " 24,\n",
       " 25,\n",
       " 23,\n",
       " 24,\n",
       " 25,\n",
       " 23,\n",
       " 25,\n",
       " 24,\n",
       " 25,\n",
       " 24,\n",
       " 25,\n",
       " 25,\n",
       " 24,\n",
       " 24,\n",
       " 25,\n",
       " 25,\n",
       " 23,\n",
       " 25,\n",
       " 23,\n",
       " 24,\n",
       " 25,\n",
       " 24,\n",
       " 25,\n",
       " 25,\n",
       " 23,\n",
       " 24,\n",
       " 24,\n",
       " 24,\n",
       " 25,\n",
       " 24,\n",
       " 24,\n",
       " 25,\n",
       " 25,\n",
       " 23,\n",
       " 25,\n",
       " 23,\n",
       " 23,\n",
       " 23,\n",
       " 25,\n",
       " 24,\n",
       " 25,\n",
       " 24,\n",
       " 23,\n",
       " 24,\n",
       " 25,\n",
       " 24,\n",
       " 25,\n",
       " 23,\n",
       " 25,\n",
       " 23,\n",
       " 24,\n",
       " 22,\n",
       " 23,\n",
       " 24,\n",
       " 24,\n",
       " 25,\n",
       " 25,\n",
       " 25,\n",
       " 25,\n",
       " 25,\n",
       " 24,\n",
       " 24,\n",
       " 24,\n",
       " 23,\n",
       " 25,\n",
       " 25,\n",
       " 25,\n",
       " 22,\n",
       " 24,\n",
       " 23,\n",
       " 23,\n",
       " 25,\n",
       " 23,\n",
       " 24,\n",
       " 25,\n",
       " 24,\n",
       " 23,\n",
       " 23,\n",
       " 24,\n",
       " 25,\n",
       " 24,\n",
       " 23,\n",
       " 24,\n",
       " 24,\n",
       " 24,\n",
       " 25,\n",
       " 25,\n",
       " 23,\n",
       " 25,\n",
       " 25,\n",
       " 25,\n",
       " 25,\n",
       " 24,\n",
       " 24,\n",
       " 23,\n",
       " 24,\n",
       " 25,\n",
       " 25,\n",
       " 24,\n",
       " 25,\n",
       " 23,\n",
       " 23,\n",
       " 24,\n",
       " 25,\n",
       " 25,\n",
       " 24,\n",
       " 23,\n",
       " 24,\n",
       " 23,\n",
       " 24,\n",
       " 25,\n",
       " 22,\n",
       " 24,\n",
       " 24,\n",
       " 25,\n",
       " 24,\n",
       " 25,\n",
       " 24,\n",
       " 25,\n",
       " 25,\n",
       " 25,\n",
       " 24,\n",
       " 24,\n",
       " 25,\n",
       " 25,\n",
       " 23,\n",
       " 24,\n",
       " 24,\n",
       " 25,\n",
       " 25,\n",
       " 25,\n",
       " 24,\n",
       " 22,\n",
       " 25,\n",
       " 25,\n",
       " 24,\n",
       " 23,\n",
       " 24,\n",
       " 24,\n",
       " 25,\n",
       " 24,\n",
       " 25,\n",
       " 25,\n",
       " 24,\n",
       " 22,\n",
       " 25,\n",
       " 25,\n",
       " 23,\n",
       " 25,\n",
       " 25,\n",
       " 24,\n",
       " 25,\n",
       " 25,\n",
       " 25,\n",
       " 25,\n",
       " 24,\n",
       " 23,\n",
       " 25,\n",
       " 24,\n",
       " 25,\n",
       " 25,\n",
       " 25,\n",
       " 24,\n",
       " 24,\n",
       " 25,\n",
       " 25,\n",
       " 24,\n",
       " 24,\n",
       " 23,\n",
       " 25,\n",
       " 25,\n",
       " 24,\n",
       " 22,\n",
       " 25,\n",
       " 23,\n",
       " 24,\n",
       " 23,\n",
       " 25,\n",
       " 25,\n",
       " 25,\n",
       " 24,\n",
       " 25,\n",
       " 24,\n",
       " 25,\n",
       " 24,\n",
       " 22,\n",
       " 25,\n",
       " 25,\n",
       " 25,\n",
       " 25,\n",
       " 24,\n",
       " 24,\n",
       " 23,\n",
       " 25,\n",
       " 24,\n",
       " 25,\n",
       " 24,\n",
       " 25,\n",
       " 25,\n",
       " 23,\n",
       " 24,\n",
       " 25,\n",
       " 23,\n",
       " 23,\n",
       " 24,\n",
       " 25,\n",
       " 25,\n",
       " 23,\n",
       " 23,\n",
       " 25,\n",
       " 25,\n",
       " 25,\n",
       " 24,\n",
       " 23,\n",
       " 25,\n",
       " 25,\n",
       " 24,\n",
       " 24,\n",
       " 25,\n",
       " 24,\n",
       " 25,\n",
       " 25,\n",
       " 23,\n",
       " 25,\n",
       " 25,\n",
       " 25,\n",
       " 25,\n",
       " 23,\n",
       " 25,\n",
       " 24,\n",
       " 25,\n",
       " 25,\n",
       " 23,\n",
       " 24,\n",
       " 24,\n",
       " 25,\n",
       " 25,\n",
       " 24,\n",
       " 25,\n",
       " 24,\n",
       " 25,\n",
       " 24,\n",
       " 25,\n",
       " 24,\n",
       " 24,\n",
       " 24,\n",
       " 23,\n",
       " 23,\n",
       " 25,\n",
       " 25,\n",
       " 23,\n",
       " 24,\n",
       " 24,\n",
       " 22,\n",
       " 24,\n",
       " 24,\n",
       " 24,\n",
       " 25,\n",
       " 24,\n",
       " 25,\n",
       " 25,\n",
       " 25,\n",
       " 22,\n",
       " 25,\n",
       " 25,\n",
       " 24,\n",
       " 25,\n",
       " 23,\n",
       " 23,\n",
       " 23,\n",
       " 24,\n",
       " 25,\n",
       " 25,\n",
       " 23,\n",
       " 22,\n",
       " 22,\n",
       " 24,\n",
       " 25,\n",
       " 24,\n",
       " 25,\n",
       " 25,\n",
       " 24,\n",
       " 25,\n",
       " 23,\n",
       " 22,\n",
       " 23,\n",
       " 23,\n",
       " 24,\n",
       " 25,\n",
       " 24,\n",
       " 23,\n",
       " 22,\n",
       " 24,\n",
       " 25,\n",
       " 25,\n",
       " 25,\n",
       " 25,\n",
       " 25,\n",
       " 25,\n",
       " 23,\n",
       " 25,\n",
       " 24,\n",
       " 25,\n",
       " 24,\n",
       " 25,\n",
       " 24,\n",
       " 25,\n",
       " 25,\n",
       " 24,\n",
       " 25,\n",
       " 24,\n",
       " 25,\n",
       " 25,\n",
       " 24,\n",
       " 25,\n",
       " 25,\n",
       " 25,\n",
       " 25,\n",
       " 23,\n",
       " 20,\n",
       " 24,\n",
       " 24,\n",
       " 24,\n",
       " 25,\n",
       " 25,\n",
       " 25,\n",
       " 25,\n",
       " 25,\n",
       " 23,\n",
       " 25,\n",
       " 24,\n",
       " 25,\n",
       " 23,\n",
       " 24,\n",
       " 25,\n",
       " 22,\n",
       " 25,\n",
       " 24,\n",
       " 25,\n",
       " 23,\n",
       " 25,\n",
       " 23,\n",
       " 24,\n",
       " 23,\n",
       " 24,\n",
       " 25,\n",
       " 24,\n",
       " 25,\n",
       " 24,\n",
       " 24,\n",
       " 24,\n",
       " 25,\n",
       " 25,\n",
       " 25,\n",
       " 25,\n",
       " 25,\n",
       " 24,\n",
       " 24,\n",
       " 22,\n",
       " 25,\n",
       " 24,\n",
       " 25,\n",
       " 25,\n",
       " 24,\n",
       " 25,\n",
       " 25,\n",
       " 24,\n",
       " 24,\n",
       " 21,\n",
       " 25,\n",
       " 24,\n",
       " 25,\n",
       " 23,\n",
       " 24,\n",
       " 24,\n",
       " 25,\n",
       " 23,\n",
       " 24,\n",
       " 25,\n",
       " 23,\n",
       " 24,\n",
       " 25,\n",
       " 25,\n",
       " 23,\n",
       " 25,\n",
       " 24,\n",
       " 24,\n",
       " 25,\n",
       " 25,\n",
       " 25,\n",
       " 24,\n",
       " 25,\n",
       " 23,\n",
       " 25,\n",
       " 25,\n",
       " 24,\n",
       " 24,\n",
       " 23,\n",
       " 22,\n",
       " 25,\n",
       " 25,\n",
       " 24,\n",
       " 23,\n",
       " 22,\n",
       " 23,\n",
       " 25,\n",
       " 24,\n",
       " 24,\n",
       " 23,\n",
       " 25,\n",
       " 24,\n",
       " 21,\n",
       " 24,\n",
       " 25,\n",
       " 25,\n",
       " 25,\n",
       " 25,\n",
       " 24,\n",
       " 24,\n",
       " 24,\n",
       " 24,\n",
       " 25,\n",
       " 24,\n",
       " 23,\n",
       " 23,\n",
       " 25,\n",
       " 25,\n",
       " 25,\n",
       " 24,\n",
       " 25,\n",
       " 24,\n",
       " 25,\n",
       " 24,\n",
       " 25,\n",
       " 25,\n",
       " 25,\n",
       " 25,\n",
       " 24,\n",
       " 25,\n",
       " 23,\n",
       " 24,\n",
       " 25,\n",
       " 24,\n",
       " 25,\n",
       " 25,\n",
       " 24,\n",
       " 25,\n",
       " 24,\n",
       " 23,\n",
       " 23,\n",
       " 24,\n",
       " 23,\n",
       " 24,\n",
       " 25,\n",
       " 25,\n",
       " 24,\n",
       " 25,\n",
       " 25,\n",
       " 25,\n",
       " 24,\n",
       " 25,\n",
       " 24,\n",
       " 24,\n",
       " 25,\n",
       " 24,\n",
       " 25,\n",
       " 24,\n",
       " 23,\n",
       " 25,\n",
       " 24,\n",
       " 25,\n",
       " 24,\n",
       " 24,\n",
       " 24,\n",
       " 25,\n",
       " 25,\n",
       " 24,\n",
       " 25,\n",
       " 22,\n",
       " 24,\n",
       " 23,\n",
       " 23,\n",
       " 23,\n",
       " 24,\n",
       " 25,\n",
       " 23,\n",
       " 24,\n",
       " 25,\n",
       " 23,\n",
       " 23,\n",
       " 23,\n",
       " 24,\n",
       " 24,\n",
       " 24,\n",
       " 25,\n",
       " 25,\n",
       " 24,\n",
       " 24,\n",
       " 23,\n",
       " 24,\n",
       " 24,\n",
       " 24,\n",
       " 24,\n",
       " 25,\n",
       " 24,\n",
       " 24,\n",
       " 24,\n",
       " 25,\n",
       " 24,\n",
       " 23,\n",
       " 25,\n",
       " 25,\n",
       " 25,\n",
       " 25,\n",
       " 24,\n",
       " 25,\n",
       " 25,\n",
       " 25,\n",
       " 24,\n",
       " 25,\n",
       " 24,\n",
       " 23,\n",
       " 24,\n",
       " 25,\n",
       " 23,\n",
       " 25,\n",
       " 25,\n",
       " 25,\n",
       " 25,\n",
       " 24,\n",
       " 25,\n",
       " 25,\n",
       " 25,\n",
       " 24,\n",
       " 23,\n",
       " 25,\n",
       " 25,\n",
       " 25,\n",
       " 25,\n",
       " 23,\n",
       " 23,\n",
       " 24,\n",
       " 23,\n",
       " 24,\n",
       " 23,\n",
       " 24,\n",
       " 24,\n",
       " 25,\n",
       " 23,\n",
       " 25,\n",
       " 24,\n",
       " 22,\n",
       " 24,\n",
       " 25,\n",
       " 24,\n",
       " 24,\n",
       " 25,\n",
       " 24,\n",
       " 24,\n",
       " 24,\n",
       " 24,\n",
       " 25,\n",
       " 25,\n",
       " 23,\n",
       " 23,\n",
       " 24,\n",
       " 25,\n",
       " 24,\n",
       " 25,\n",
       " 25,\n",
       " 25,\n",
       " 25,\n",
       " 24,\n",
       " 24,\n",
       " 25,\n",
       " 24,\n",
       " 24,\n",
       " 24,\n",
       " 24,\n",
       " 23,\n",
       " 24,\n",
       " 24,\n",
       " 24,\n",
       " 25,\n",
       " 25,\n",
       " 24,\n",
       " 24,\n",
       " 25,\n",
       " 25,\n",
       " 25,\n",
       " 24,\n",
       " 24,\n",
       " 25,\n",
       " 24,\n",
       " 25,\n",
       " 24,\n",
       " 24,\n",
       " 25,\n",
       " 25,\n",
       " 24,\n",
       " 23,\n",
       " 25,\n",
       " 24,\n",
       " 23,\n",
       " 23,\n",
       " 25,\n",
       " 24,\n",
       " 23,\n",
       " 24,\n",
       " 24,\n",
       " 24,\n",
       " 25,\n",
       " 25,\n",
       " 24,\n",
       " 24,\n",
       " 23,\n",
       " 24,\n",
       " 24,\n",
       " 24,\n",
       " 25,\n",
       " 25,\n",
       " 25,\n",
       " 25,\n",
       " 24,\n",
       " 24,\n",
       " 25,\n",
       " 23,\n",
       " 24,\n",
       " 25,\n",
       " 25,\n",
       " 23,\n",
       " 25,\n",
       " 25,\n",
       " 24,\n",
       " 24,\n",
       " 25,\n",
       " 25,\n",
       " 24,\n",
       " 24,\n",
       " 25,\n",
       " 25,\n",
       " 22,\n",
       " 24,\n",
       " 23,\n",
       " 25,\n",
       " 25,\n",
       " 24,\n",
       " 24,\n",
       " 23,\n",
       " 23,\n",
       " 24,\n",
       " 22,\n",
       " 25,\n",
       " 25,\n",
       " 25,\n",
       " 23,\n",
       " 24,\n",
       " 25,\n",
       " 24,\n",
       " 25,\n",
       " 22,\n",
       " 25,\n",
       " 25,\n",
       " 25,\n",
       " 24,\n",
       " 25,\n",
       " 24,\n",
       " 25,\n",
       " 24,\n",
       " 24,\n",
       " 25,\n",
       " 25,\n",
       " 24,\n",
       " 22,\n",
       " 24,\n",
       " 24,\n",
       " 24,\n",
       " 25,\n",
       " 24,\n",
       " 25,\n",
       " 24,\n",
       " 25,\n",
       " 25,\n",
       " 23,\n",
       " 25,\n",
       " 25,\n",
       " 24,\n",
       " 25,\n",
       " 25,\n",
       " 25,\n",
       " 24,\n",
       " 25,\n",
       " 24,\n",
       " 25,\n",
       " 24,\n",
       " 23,\n",
       " 24,\n",
       " 25,\n",
       " 25,\n",
       " 25,\n",
       " 23,\n",
       " 24,\n",
       " 22,\n",
       " 23,\n",
       " 23,\n",
       " 24,\n",
       " 24,\n",
       " 23,\n",
       " 24,\n",
       " 23,\n",
       " 24,\n",
       " 24,\n",
       " 24,\n",
       " 25,\n",
       " 24,\n",
       " 24,\n",
       " 25,\n",
       " 24,\n",
       " 25,\n",
       " 23,\n",
       " 23,\n",
       " 24,\n",
       " 23,\n",
       " 24,\n",
       " 25,\n",
       " 24,\n",
       " 25,\n",
       " 22,\n",
       " 24,\n",
       " 23,\n",
       " 23,\n",
       " 25,\n",
       " 25,\n",
       " 24,\n",
       " 24,\n",
       " 25,\n",
       " 24,\n",
       " 22,\n",
       " 24,\n",
       " 24,\n",
       " 24,\n",
       " 25,\n",
       " 24,\n",
       " 25,\n",
       " 25,\n",
       " 25,\n",
       " 23,\n",
       " 25,\n",
       " 24,\n",
       " 23,\n",
       " 25,\n",
       " 23,\n",
       " 25,\n",
       " 23,\n",
       " 25,\n",
       " 24,\n",
       " 22,\n",
       " 22,\n",
       " 25,\n",
       " 24,\n",
       " 24,\n",
       " 25,\n",
       " 23,\n",
       " 24,\n",
       " 22,\n",
       " 25,\n",
       " 25,\n",
       " 25,\n",
       " 24,\n",
       " 23,\n",
       " 24,\n",
       " 22,\n",
       " 24,\n",
       " 24,\n",
       " 25,\n",
       " 25,\n",
       " 25,\n",
       " 24,\n",
       " 24,\n",
       " 24,\n",
       " 25,\n",
       " 24,\n",
       " 25,\n",
       " 25,\n",
       " 23,\n",
       " 23,\n",
       " 24,\n",
       " 24,\n",
       " 23,\n",
       " 25,\n",
       " 23,\n",
       " 25,\n",
       " 25,\n",
       " 25,\n",
       " 24,\n",
       " 24,\n",
       " 24,\n",
       " 25,\n",
       " 23,\n",
       " 25,\n",
       " 24,\n",
       " 25,\n",
       " 25,\n",
       " 24,\n",
       " 24,\n",
       " 25,\n",
       " 24,\n",
       " 25,\n",
       " 25,\n",
       " 24,\n",
       " 25,\n",
       " 25,\n",
       " 24,\n",
       " 23,\n",
       " 24,\n",
       " 25,\n",
       " 25,\n",
       " 24,\n",
       " 23,\n",
       " 24,\n",
       " 24,\n",
       " 25,\n",
       " 24,\n",
       " 25,\n",
       " 22,\n",
       " 25,\n",
       " 23,\n",
       " 23,\n",
       " 25,\n",
       " 25,\n",
       " 24,\n",
       " 25,\n",
       " 25,\n",
       " 24,\n",
       " 24,\n",
       " 24,\n",
       " 24,\n",
       " 24,\n",
       " 24,\n",
       " 25,\n",
       " 24,\n",
       " 25,\n",
       " 25,\n",
       " 23,\n",
       " 25,\n",
       " 25,\n",
       " 25,\n",
       " 24,\n",
       " 24,\n",
       " 24,\n",
       " 25,\n",
       " 23,\n",
       " 23,\n",
       " 24,\n",
       " 23,\n",
       " 25,\n",
       " 24,\n",
       " 25,\n",
       " 25,\n",
       " 24,\n",
       " 25,\n",
       " 23,\n",
       " 25,\n",
       " 25,\n",
       " 25,\n",
       " 25,\n",
       " 25,\n",
       " 25,\n",
       " 25,\n",
       " 25,\n",
       " 25,\n",
       " 23,\n",
       " 25,\n",
       " 25,\n",
       " 25,\n",
       " 23,\n",
       " 24,\n",
       " 24,\n",
       " 22,\n",
       " 25,\n",
       " 25,\n",
       " 25,\n",
       " 25,\n",
       " 22,\n",
       " 25,\n",
       " 25,\n",
       " 23,\n",
       " 25,\n",
       " 24,\n",
       " 22,\n",
       " 25,\n",
       " 24,\n",
       " 25,\n",
       " 24,\n",
       " 25,\n",
       " 24,\n",
       " 22,\n",
       " 25,\n",
       " 24,\n",
       " 25,\n",
       " 25,\n",
       " 23,\n",
       " 24,\n",
       " 25,\n",
       " 23,\n",
       " 24,\n",
       " 23,\n",
       " 23,\n",
       " 23,\n",
       " 25,\n",
       " 25,\n",
       " 23,\n",
       " 24,\n",
       " 24,\n",
       " 23,\n",
       " 25,\n",
       " 24,\n",
       " 20,\n",
       " 24,\n",
       " 24,\n",
       " 25,\n",
       " 24,\n",
       " 23,\n",
       " 24,\n",
       " 24,\n",
       " 22,\n",
       " 24,\n",
       " 24,\n",
       " 25,\n",
       " 24,\n",
       " 24,\n",
       " 25,\n",
       " 25,\n",
       " 25,\n",
       " 25,\n",
       " 25,\n",
       " 25,\n",
       " 25,\n",
       " 25,\n",
       " 24,\n",
       " 24,\n",
       " 25,\n",
       " 25,\n",
       " 23,\n",
       " 24,\n",
       " 25,\n",
       " 23,\n",
       " 23,\n",
       " 24,\n",
       " 25,\n",
       " 23,\n",
       " 24,\n",
       " 25,\n",
       " 25,\n",
       " 25,\n",
       " 24,\n",
       " 24,\n",
       " 24,\n",
       " 24,\n",
       " 25,\n",
       " 23,\n",
       " 23,\n",
       " 25,\n",
       " 25,\n",
       " 25,\n",
       " 23,\n",
       " 23,\n",
       " 25,\n",
       " 24,\n",
       " 24,\n",
       " 23,\n",
       " 25,\n",
       " 24,\n",
       " 25,\n",
       " 24,\n",
       " 25,\n",
       " 24,\n",
       " 24,\n",
       " 22,\n",
       " 23,\n",
       " 23,\n",
       " 25,\n",
       " 24,\n",
       " 24,\n",
       " 25,\n",
       " 24,\n",
       " 25,\n",
       " 24,\n",
       " 22,\n",
       " 24,\n",
       " 25,\n",
       " 24]"
      ]
     },
     "execution_count": 96,
     "metadata": {},
     "output_type": "execute_result"
    }
   ],
   "source": [
    "[len(set([randint(1,365) for x in range(25)])) for y in range(1000)]"
   ]
  },
  {
   "cell_type": "code",
   "execution_count": 116,
   "metadata": {
    "collapsed": false
   },
   "outputs": [
    {
     "data": {
      "text/plain": [
       "0.5581"
      ]
     },
     "execution_count": 116,
     "metadata": {},
     "output_type": "execute_result"
    }
   ],
   "source": [
    "sum([x<25 for x in [len(set([randint(1,365) for x in range(25)])) for y in range(1000)]])/1000"
   ]
  },
  {
   "cell_type": "code",
   "execution_count": 128,
   "metadata": {
    "collapsed": false
   },
   "outputs": [],
   "source": [
    "def prob_collisione(z):\n",
    "    return sum([x<z for x in [len(set([randint(1,365) for x in range(z)])) for y in range(1000)]])/1000"
   ]
  },
  {
   "cell_type": "code",
   "execution_count": 129,
   "metadata": {
    "collapsed": false
   },
   "outputs": [
    {
     "data": {
      "text/plain": [
       "[0.124,\n",
       " 0.13,\n",
       " 0.164,\n",
       " 0.182,\n",
       " 0.216,\n",
       " 0.273,\n",
       " 0.294,\n",
       " 0.311,\n",
       " 0.343,\n",
       " 0.366,\n",
       " 0.429,\n",
       " 0.449,\n",
       " 0.472,\n",
       " 0.49,\n",
       " 0.535,\n",
       " 0.574,\n",
       " 0.601,\n",
       " 0.606,\n",
       " 0.661,\n",
       " 0.694]"
      ]
     },
     "execution_count": 129,
     "metadata": {},
     "output_type": "execute_result"
    }
   ],
   "source": [
    "[prob_collisione(x) for x in range(10,30)]"
   ]
  },
  {
   "cell_type": "code",
   "execution_count": 125,
   "metadata": {
    "collapsed": false
   },
   "outputs": [],
   "source": [
    "%matplotlib inline"
   ]
  },
  {
   "cell_type": "code",
   "execution_count": 126,
   "metadata": {
    "collapsed": true
   },
   "outputs": [],
   "source": [
    "from matplotlib import pyplot as plt\n"
   ]
  },
  {
   "cell_type": "code",
   "execution_count": 131,
   "metadata": {
    "collapsed": false
   },
   "outputs": [
    {
     "data": {
      "text/plain": [
       "[<matplotlib.lines.Line2D at 0x10ab3a9b0>]"
      ]
     },
     "execution_count": 131,
     "metadata": {},
     "output_type": "execute_result"
    },
    {
     "data": {
      "image/png": "[encoded data removed]",
      "text/plain": [
       "<matplotlib.figure.Figure at 0x10aaef898>"
      ]
     },
     "metadata": {},
     "output_type": "display_data"
    }
   ],
   "source": [
    "plt.plot([prob_collisione(x) for x in range(25,100)])"
   ]
  }
 ],
 "metadata": {
  "kernelspec": {
   "display_name": "Python 3",
   "language": "python",
   "name": "python3"
  },
  "language_info": {
   "codemirror_mode": {
    "name": "ipython",
    "version": 3
   },
   "file_extension": ".py",
   "mimetype": "text/x-python",
   "name": "python",
   "nbconvert_exporter": "python",
   "pygments_lexer": "ipython3",
   "version": "3.5.0"
  }
 },
 "nbformat": 4,
 "nbformat_minor": 0
}
